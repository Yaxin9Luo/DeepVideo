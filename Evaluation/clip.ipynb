{
 "cells": [
  {
   "cell_type": "code",
   "execution_count": null,
   "id": "4d91629c",
   "metadata": {},
   "outputs": [],
   "source": [
    "!pip install torch torchvision torchaudio --extra-index-url https://download.pytorch.org/whl/cu116 # Choose a version that suits your GPU"
   ]
  },
  {
   "cell_type": "code",
   "execution_count": null,
   "id": "a4edce84",
   "metadata": {},
   "outputs": [],
   "source": [
    "!pip install openai-clip\n"
   ]
  },
  {
   "cell_type": "code",
   "execution_count": null,
   "id": "9757a78e",
   "metadata": {},
   "outputs": [],
   "source": [
    "!pip install clip-score\n"
   ]
  },
  {
   "cell_type": "code",
   "execution_count": null,
   "id": "2e55eb23",
   "metadata": {},
   "outputs": [],
   "source": [
    "!git clone https://github.com/Taited/clip-score\n"
   ]
  },
  {
   "cell_type": "code",
   "execution_count": null,
   "id": "3c7568de",
   "metadata": {},
   "outputs": [],
   "source": [
    "!pip install opencv-python\n"
   ]
  },
  {
   "cell_type": "code",
   "execution_count": 1,
   "id": "8c75a6ea",
   "metadata": {},
   "outputs": [],
   "source": [
    "import cv2\n",
    "import os\n",
    "\n",
    "def video_to_frames(video_path, frames_path):\n",
    "\n",
    "    if not os.path.exists(frames_path):\n",
    "        os.makedirs(frames_path)\n",
    "\n",
    "\n",
    "    cap = cv2.VideoCapture(video_path)\n",
    "\n",
    "    count = 0\n",
    "    while True:\n",
    "        # read from video\n",
    "        ret, frame = cap.read()\n",
    "\n",
    "        # if necessary\n",
    "        if ret:\n",
    "            cv2.imwrite(os.path.join(frames_path, f\"frame{count:05d}.jpg\"), frame)\n",
    "            count += 1\n",
    "        else:\n",
    "            break\n",
    "\n",
    "    # release\n",
    "    cap.release()\n",
    "\n",
    "# example \n",
    "video_to_frames(\"test/fireworks_in_the_night_city.mp4\", \"test7_img\")\n"
   ]
  },
  {
   "cell_type": "code",
   "execution_count": 3,
   "id": "4d785c8b",
   "metadata": {},
   "outputs": [],
   "source": [
    "import os\n",
    "\n",
    "def create_text_files_for_images(img_dir, text_dir, prompt):\n",
    "    # check path\n",
    "    if not os.path.exists(text_dir):\n",
    "        os.makedirs(text_dir)\n",
    "\n",
    "    # iterate \n",
    "    for img_file in os.listdir(img_dir):\n",
    "        if img_file.endswith('.jpg') or img_file.endswith('.png'):\n",
    "            # create file \n",
    "            base_name = os.path.splitext(img_file)[0]\n",
    "            text_file_name = f\"{base_name}.txt\"\n",
    "\n",
    "            # write in file \n",
    "            with open(os.path.join(text_dir, text_file_name), 'w') as text_file:\n",
    "                text_file.write(prompt)\n",
    "\n",
    "# example \n",
    "create_text_files_for_images(\"test7_img\", \"test7_pro\", \"fireworks_in_the_night_city\")\n"
   ]
  },
  {
   "cell_type": "code",
   "execution_count": 5,
   "id": "8e17dbda",
   "metadata": {},
   "outputs": [
    {
     "name": "stdout",
     "output_type": "stream",
     "text": [
      "Loading CLIP model: ViT-B/32\n",
      "Calculating CLIP Score:\n",
      "100%|█████████████████████████████████████████████| 1/1 [00:08<00:00,  8.16s/it]\n",
      "CLIP Score:  31.55415916442871\n"
     ]
    }
   ],
   "source": [
    "!python -m clip_score test7_img test7_pro"
   ]
  },
  {
   "cell_type": "code",
   "execution_count": null,
   "id": "2521cf97",
   "metadata": {},
   "outputs": [],
   "source": [
    "import os\n",
    "import subprocess\n",
    "\n",
    "def clip_score_single_image(img_dir, text_file):\n",
    "    # iterate\n",
    "    for img_file in os.listdir(img_dir):\n",
    "        if img_file.endswith('.jpg') or img_file.endswith('.png'):\n",
    "            img_file_path = os.path.join(img_dir, img_file)\n",
    "            # create clip-score \n",
    "            cmd = f\"python -m clip_score {img_file_path} {text_file}\"\n",
    "            \n",
    "            # use clip-score \n",
    "            result = subprocess.run(cmd, shell=True, capture_output=True, text=True)\n",
    "            print(f\"Image: {img_file_path}\")\n",
    "            print(result.stdout)\n",
    "            if result.stderr:\n",
    "                print(\"Error:\", result.stderr)\n",
    "\n",
    "clip_score_single_image(\"test6_img\", \"test6_pro\")\n"
   ]
  },
  {
   "cell_type": "code",
   "execution_count": 40,
   "id": "97b020d4",
   "metadata": {},
   "outputs": [
    {
     "name": "stdout",
     "output_type": "stream",
     "text": [
      "Image: test6_img/frame00005.jpg\n",
      "Loading CLIP model: ViT-B/32\n",
      "Calculating CLIP Score:\n",
      "CLIP Score:  34.14436340332031\n",
      "\n",
      "Error: \n",
      "  0%|          | 0/1 [00:00<?, ?it/s]\n",
      "100%|██████████| 1/1 [00:02<00:00,  2.43s/it]\n",
      "100%|██████████| 1/1 [00:07<00:00,  7.44s/it]\n",
      "\n",
      "Image: test6_img/frame00004.jpg\n",
      "Loading CLIP model: ViT-B/32\n",
      "Calculating CLIP Score:\n",
      "CLIP Score:  33.822731018066406\n",
      "\n",
      "Error: \n",
      "  0%|          | 0/1 [00:00<?, ?it/s]\n",
      "100%|██████████| 1/1 [00:02<00:00,  2.48s/it]\n",
      "100%|██████████| 1/1 [00:07<00:00,  7.48s/it]\n",
      "\n",
      "Image: test6_img/frame00006.jpg\n",
      "Loading CLIP model: ViT-B/32\n",
      "Calculating CLIP Score:\n",
      "CLIP Score:  32.79052734375\n",
      "\n",
      "Error: \n",
      "  0%|          | 0/1 [00:00<?, ?it/s]\n",
      "100%|██████████| 1/1 [00:02<00:00,  2.47s/it]\n",
      "100%|██████████| 1/1 [00:07<00:00,  7.48s/it]\n",
      "\n",
      "Image: test6_img/frame00007.jpg\n",
      "Loading CLIP model: ViT-B/32\n",
      "Calculating CLIP Score:\n",
      "CLIP Score:  34.051692962646484\n",
      "\n",
      "Error: \n",
      "  0%|          | 0/1 [00:00<?, ?it/s]\n",
      "100%|██████████| 1/1 [00:02<00:00,  2.19s/it]\n",
      "100%|██████████| 1/1 [00:07<00:00,  7.20s/it]\n",
      "\n",
      "Image: test6_img/frame00003.jpg\n",
      "Loading CLIP model: ViT-B/32\n",
      "Calculating CLIP Score:\n",
      "CLIP Score:  35.54117202758789\n",
      "\n",
      "Error: \n",
      "  0%|          | 0/1 [00:00<?, ?it/s]\n",
      "100%|██████████| 1/1 [00:02<00:00,  2.54s/it]\n",
      "100%|██████████| 1/1 [00:07<00:00,  7.55s/it]\n",
      "\n",
      "Image: test6_img/frame00002.jpg\n",
      "Loading CLIP model: ViT-B/32\n",
      "Calculating CLIP Score:\n",
      "CLIP Score:  33.380489349365234\n",
      "\n",
      "Error: \n",
      "  0%|          | 0/1 [00:00<?, ?it/s]\n",
      "100%|██████████| 1/1 [00:02<00:00,  2.42s/it]\n",
      "100%|██████████| 1/1 [00:07<00:00,  7.42s/it]\n",
      "\n",
      "Image: test6_img/frame00000.jpg\n",
      "Loading CLIP model: ViT-B/32\n",
      "Calculating CLIP Score:\n",
      "CLIP Score:  35.46261978149414\n",
      "\n",
      "Error: \n",
      "  0%|          | 0/1 [00:00<?, ?it/s]\n",
      "100%|██████████| 1/1 [00:02<00:00,  2.54s/it]\n",
      "100%|██████████| 1/1 [00:07<00:00,  7.55s/it]\n",
      "\n",
      "Image: test6_img/frame00001.jpg\n",
      "Loading CLIP model: ViT-B/32\n",
      "Calculating CLIP Score:\n",
      "CLIP Score:  33.67600631713867\n",
      "\n",
      "Error: \n",
      "  0%|          | 0/1 [00:00<?, ?it/s]\n",
      "100%|██████████| 1/1 [00:02<00:00,  2.49s/it]\n",
      "100%|██████████| 1/1 [00:07<00:00,  7.49s/it]\n",
      "\n"
     ]
    }
   ],
   "source": [
    "import os\n",
    "import subprocess\n",
    "import tempfile\n",
    "import shutil\n",
    "\n",
    "def clip_score_single_image(img_dir, text_file, prompt):\n",
    "    if not os.path.exists(text_file):\n",
    "        with open(text_file, 'w') as f:\n",
    "            f.write(prompt)\n",
    "\n",
    "    for img_file in os.listdir(img_dir):\n",
    "        if img_file.endswith('.jpg') or img_file.endswith('.png'):\n",
    "            with tempfile.TemporaryDirectory() as temp_dir:\n",
    "                img_file_path = os.path.join(img_dir, img_file)\n",
    "                \n",
    "                temp_img_path = os.path.join(temp_dir, img_file)\n",
    "                shutil.copy(img_file_path, temp_img_path)\n",
    "                \n",
    "                cmd = f\"python -m clip_score {temp_dir} {text_file}\"\n",
    "                \n",
    "                result = subprocess.run(cmd, shell=True, capture_output=True, text=True)\n",
    "                \n",
    "                print(f\"Image: {img_file_path}\")\n",
    "                print(result.stdout)\n",
    "                if result.stderr:\n",
    "                    print(\"Error:\", result.stderr)\n",
    "\n",
    "clip_score_single_image(\"test6_img\", \"test6_pro\", \"firework_desert\")\n"
   ]
  }
 ],
 "metadata": {
  "kernelspec": {
   "display_name": "Python 3 (ipykernel)",
   "language": "python",
   "name": "python3"
  },
  "language_info": {
   "codemirror_mode": {
    "name": "ipython",
    "version": 3
   },
   "file_extension": ".py",
   "mimetype": "text/x-python",
   "name": "python",
   "nbconvert_exporter": "python",
   "pygments_lexer": "ipython3",
   "version": "3.11.4"
  }
 },
 "nbformat": 4,
 "nbformat_minor": 5
}
